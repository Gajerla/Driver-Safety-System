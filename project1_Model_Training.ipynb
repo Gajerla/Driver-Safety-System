{
 "cells": [
  {
   "cell_type": "code",
   "execution_count": 1,
   "id": "d92df0a1",
   "metadata": {},
   "outputs": [],
   "source": [
    "import tensorflow as tf\n",
    "from tensorflow.keras.applications import MobileNet\n",
    "from tensorflow.keras.models import Model\n",
    "from tensorflow.keras.optimizers import Adam\n",
    "from tensorflow.keras.layers import Dropout,Input,Flatten,Dense,MaxPooling2D\n",
    "from tensorflow.keras.preprocessing.image import ImageDataGenerator"
   ]
  },
  {
   "cell_type": "code",
   "execution_count": 2,
   "id": "a3994d99",
   "metadata": {},
   "outputs": [],
   "source": [
    "batchsize=8"
   ]
  },
  {
   "cell_type": "code",
   "execution_count": 3,
   "id": "e0fe74a7",
   "metadata": {},
   "outputs": [],
   "source": [
    "train_datagen=ImageDataGenerator(rescale=1./255,\n",
    "                                 rotation_range=0.2,\n",
    "                                 shear_range=0.2,\n",
    "                                 zoom_range=0.2,\n",
    "                                 width_shift_range=0.2,\n",
    "                                 height_shift_range=0.2,\n",
    "                                 validation_split=0.2)"
   ]
  },
  {
   "cell_type": "code",
   "execution_count": 4,
   "id": "c469fb70",
   "metadata": {},
   "outputs": [
    {
     "name": "stdout",
     "output_type": "stream",
     "text": [
      "Found 23058 images belonging to 2 classes.\n",
      "Found 5763 images belonging to 2 classes.\n"
     ]
    }
   ],
   "source": [
    "train_data= train_datagen.flow_from_directory(r\"C:\\Users\\Roshith\\OneDrive\\Desktop\\dataset\\drowsiness\\drowsiness\\Prepared_Data\\train\",\n",
    "                          target_size=(80,80),batch_size=batchsize,class_mode=\"categorical\", subset=\"training\")\n",
    "validation_data= train_datagen.flow_from_directory(r\"C:\\Users\\Roshith\\OneDrive\\Desktop\\dataset\\drowsiness\\drowsiness\\Prepared_Data\\train\",\n",
    "                          target_size=(80,80),batch_size=batchsize,class_mode=\"categorical\", subset=\"validation\")                                          "
   ]
  },
  {
   "cell_type": "code",
   "execution_count": 5,
   "id": "bb992fc3",
   "metadata": {},
   "outputs": [
    {
     "name": "stdout",
     "output_type": "stream",
     "text": [
      "Found 4573 images belonging to 2 classes.\n"
     ]
    }
   ],
   "source": [
    "test_datagen = ImageDataGenerator(rescale=1./255)\n",
    "test_data = test_datagen.flow_from_directory(r\"C:\\Users\\Roshith\\OneDrive\\Desktop\\dataset\\drowsiness\\drowsiness\\Prepared_Data\\test\",\n",
    "                          target_size=(80,80),batch_size=batchsize,class_mode=\"categorical\")\n"
   ]
  },
  {
   "cell_type": "code",
   "execution_count": 6,
   "id": "c697a429",
   "metadata": {},
   "outputs": [
    {
     "name": "stdout",
     "output_type": "stream",
     "text": [
      "WARNING:tensorflow:`input_shape` is undefined or non-square, or `rows` is not in [128, 160, 192, 224]. Weights for input shape (224, 224) will be loaded as the default.\n"
     ]
    }
   ],
   "source": [
    "bmodel = MobileNet(include_top=False, weights=\"imagenet\",input_shape=(87,87,3))\n",
    "hmodel = bmodel.output\n",
    "hmodel = Flatten()(hmodel)\n",
    "hmodel = Dense(64, activation=\"relu\")(hmodel)\n",
    "hmodel = Dropout(0.5)(hmodel)\n",
    "hmodel = Dense(2, activation=\"sigmoid\")(hmodel)\n",
    "\n",
    "model = Model(inputs=bmodel.input,outputs=hmodel)\n",
    "for layer in bmodel.layers:\n",
    "    layer.trainable = False"
   ]
  },
  {
   "cell_type": "code",
   "execution_count": 7,
   "id": "afa906fe",
   "metadata": {},
   "outputs": [],
   "source": [
    "from tensorflow.keras.callbacks import ModelCheckpoint,EarlyStopping,ReduceLROnPlateau"
   ]
  },
  {
   "cell_type": "code",
   "execution_count": 8,
   "id": "de0860d2",
   "metadata": {},
   "outputs": [],
   "source": [
    "checkpoint = ModelCheckpoint(r\"C:\\Users\\Roshith\\OneDrive\\Desktop\\dataset\\drowsiness\\drowsiness\\models\\model.h5\",monitor=\"val_loss\",save_best_only=True,verbose=3)\n",
    "\n",
    "earlystop = EarlyStopping(monitor = \"val_loss\",patience=7,verbose=3, restore_best_weights=True)\n",
    "learning_rate = ReduceLROnPlateau(moniter= \"val_loss\",patience=3,verbose= 3, )\n",
    "callbacks =[checkpoint,earlystop,learning_rate]"
   ]
  },
  {
   "cell_type": "code",
   "execution_count": 9,
   "id": "5f795c8b",
   "metadata": {},
   "outputs": [
    {
     "name": "stdout",
     "output_type": "stream",
     "text": [
      "Epoch 1/3\n",
      "2882/2882 [==============================] - ETA: 0s - loss: 0.2358 - accuracy: 0.9096\n",
      "Epoch 1: val_loss improved from inf to 0.29423, saving model to C:\\Users\\Roshith\\OneDrive\\Desktop\\dataset\\drowsiness\\drowsiness\\models\\model.h5\n",
      "2882/2882 [==============================] - 127s 44ms/step - loss: 0.2358 - accuracy: 0.9096 - val_loss: 0.2942 - val_accuracy: 0.9085 - lr: 0.0010\n",
      "Epoch 2/3\n",
      "2881/2882 [============================>.] - ETA: 0s - loss: 0.1859 - accuracy: 0.9277\n",
      "Epoch 2: val_loss did not improve from 0.29423\n",
      "2882/2882 [==============================] - 110s 38ms/step - loss: 0.1858 - accuracy: 0.9278 - val_loss: 0.3092 - val_accuracy: 0.8970 - lr: 0.0010\n",
      "Epoch 3/3\n",
      "2882/2882 [==============================] - ETA: 0s - loss: 0.1756 - accuracy: 0.9319\n",
      "Epoch 3: val_loss did not improve from 0.29423\n",
      "2882/2882 [==============================] - 100s 35ms/step - loss: 0.1756 - accuracy: 0.9319 - val_loss: 0.7417 - val_accuracy: 0.8642 - lr: 0.0010\n"
     ]
    },
    {
     "data": {
      "text/plain": [
       "<keras.callbacks.History at 0x27221e81100>"
      ]
     },
     "execution_count": 9,
     "metadata": {},
     "output_type": "execute_result"
    }
   ],
   "source": [
    "model.compile(optimizer='Adam', loss='categorical_crossentropy',metrics=['accuracy'])\n",
    "#model.compile(optimizer=tf.keras.optimizers.Adam(learning_rate=1e-3),\n",
    "              #loss=tf.keras.losses.BinaryCrossentropy(),\n",
    "             # metrics=[tf.keras.metrics.BinaryAccuracy(),\n",
    "                       #tf.keras.metrics.FalseNegatives()])\n",
    "model.fit(train_data,batch_size=batchsize,steps_per_epoch=train_data.samples//batchsize,validation_data=validation_data,validation_steps=validation_data.samples//batchsize,callbacks=callbacks,epochs=3)\n",
    "#model.fit_generator(train_data,epochs=10,verbose=1,shuffle=True,class_weight=None,sample_weight=None,initial_epoch=0,steps_per_epoch=train_data.samples//batchsize,validation_data=validation_data,validation_steps=validation_data.samples//batchsize,callbacks=callbacks,validation_batch_size=8,validation_freq=1,max_queue_size=10,workers=1,use_multiprocessing=False)\n",
    "#model.fit(tf.expand_dims(train_data,axis=-1),batch_size=batchsize,epochs=10,verbose=1,validation_data=(test_data))"
   ]
  },
  {
   "cell_type": "code",
   "execution_count": null,
   "id": "64f02aa8",
   "metadata": {},
   "outputs": [],
   "source": []
  },
  {
   "cell_type": "code",
   "execution_count": null,
   "id": "0b4ad88e",
   "metadata": {},
   "outputs": [],
   "source": []
  },
  {
   "cell_type": "code",
   "execution_count": null,
   "id": "89b7807f",
   "metadata": {},
   "outputs": [],
   "source": []
  },
  {
   "cell_type": "code",
   "execution_count": null,
   "id": "e7d7754f",
   "metadata": {},
   "outputs": [],
   "source": []
  },
  {
   "cell_type": "code",
   "execution_count": null,
   "id": "7816a981",
   "metadata": {},
   "outputs": [],
   "source": []
  }
 ],
 "metadata": {
  "kernelspec": {
   "display_name": "Python 3 (ipykernel)",
   "language": "python",
   "name": "python3"
  },
  "language_info": {
   "codemirror_mode": {
    "name": "ipython",
    "version": 3
   },
   "file_extension": ".py",
   "mimetype": "text/x-python",
   "name": "python",
   "nbconvert_exporter": "python",
   "pygments_lexer": "ipython3",
   "version": "3.8.8"
  }
 },
 "nbformat": 4,
 "nbformat_minor": 5
}
